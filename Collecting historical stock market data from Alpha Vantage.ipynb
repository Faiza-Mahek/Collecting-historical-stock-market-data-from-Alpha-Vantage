{
 "cells": [
  {
   "cell_type": "markdown",
   "id": "1e7fdc9c-a9e2-4fd6-9243-113b35de053e",
   "metadata": {},
   "source": [
    "# Collecting Historical Stock Market Data from Alpha Vantage\n",
    "### Author : Faiza Mahek\n",
    "### Date   : 01 Feb 2025"
   ]
  },
  {
   "cell_type": "code",
   "execution_count": 5,
   "id": "d297c8e6-6bae-47cf-93d9-e88eb4427b49",
   "metadata": {},
   "outputs": [],
   "source": [
    "# **1. Importing Necessary Libraries**\n",
    "import requests\n",
    "import pandas as pd\n",
    "import time"
   ]
  },
  {
   "cell_type": "code",
   "execution_count": 6,
   "id": "4197ca1e-3614-4834-830f-53fc5c91fe07",
   "metadata": {},
   "outputs": [],
   "source": [
    "# **2. API Configuration**\n",
    "API_KEY = \"0ZTAZLV11WIOWB9Q\"  # Replace with your Alpha Vantage API key\n",
    "BASE_URL = \"https://www.alphavantage.co/query\""
   ]
  },
  {
   "cell_type": "code",
   "execution_count": 1,
   "id": "2099cf5c-bd31-486b-9d47-cde0dbd1773f",
   "metadata": {},
   "outputs": [],
   "source": [
    "# **2. API Configuration**\n",
    "API_KEY = \"demo\"  # Using demo API key\n",
    "BASE_URL = \"https://www.alphavantage.co/query\"\n",
    "BSE_SYMBOL = \"RELIANCE.BSE\""
   ]
  },
  {
   "cell_type": "code",
   "execution_count": 6,
   "id": "387dc263-908c-49a4-acc6-4836505f10d6",
   "metadata": {},
   "outputs": [],
   "source": [
    "def fetch_stock_data(symbol):\n",
    "    \"\"\"Fetch historical stock market data from Alpha Vantage.\"\"\"\n",
    "    try:\n",
    "        url = f\"{BASE_URL}?function=TIME_SERIES_DAILY_ADJUSTED&symbol={symbol}&outputsize=full&apikey={API_KEY}\"\n",
    "        response = requests.get(url)\n",
    "        response.raise_for_status()  # Raise an error for bad response\n",
    "        data = response.json()\n",
    "        \n",
    "        if \"Time Series (Daily)\" not in data:\n",
    "            print(f\"Error fetching data for {symbol}: {data.get('Information', 'Unknown error')}\")\n",
    "            return None\n",
    "        \n",
    "        df = pd.DataFrame.from_dict(data[\"Time Series (Daily)\"], orient=\"index\")\n",
    "        df.rename(columns={\n",
    "            \"1. open\": \"Open\",\n",
    "            \"2. high\": \"High\",\n",
    "            \"3. low\": \"Low\",\n",
    "            \"4. close\": \"Close\",\n",
    "            \"5. adjusted close\": \"Adjusted Close\",\n",
    "            \"6. volume\": \"Volume\"\n",
    "        }, inplace=True)\n",
    "        \n",
    "        df.index = pd.to_datetime(df.index)\n",
    "        df = df.sort_index(ascending=True)\n",
    "        df = df.astype(float)\n",
    "        \n",
    "        return df\n",
    "    except requests.exceptions.RequestException as e:\n",
    "        print(f\"Request error: {e}\")\n",
    "        return None\n",
    "    except ValueError as ve:\n",
    "        print(f\"Data processing error: {ve}\")\n",
    "        return None\n"
   ]
  },
  {
   "cell_type": "code",
   "execution_count": 7,
   "id": "8ab130df-74f1-4b3a-bd27-45c752b70f34",
   "metadata": {},
   "outputs": [],
   "source": [
    "bse_data = fetch_stock_data(BSE_SYMBOL)"
   ]
  },
  {
   "cell_type": "code",
   "execution_count": 10,
   "id": "ab58a16e-019a-4497-98e8-e7a5a8c40ee0",
   "metadata": {},
   "outputs": [],
   "source": [
    "def preprocess_data(df):\n",
    "    \"\"\"Clean and preprocess the stock data.\"\"\"\n",
    "    if df is not None:\n",
    "        df.dropna(inplace=True)\n",
    "        df.ffill(inplace=True)  # Using forward fill with latest pandas recommended syntax\n",
    "    return df"
   ]
  },
  {
   "cell_type": "code",
   "execution_count": 11,
   "id": "3de06d2f-b411-4966-a53e-613040c24faf",
   "metadata": {},
   "outputs": [
    {
     "name": "stdout",
     "output_type": "stream",
     "text": [
      "BSE data saved successfully.\n",
      "BSE data collection and preprocessing completed.\n"
     ]
    }
   ],
   "source": [
    "if bse_data is not None:\n",
    "    bse_data = preprocess_data(bse_data)\n",
    "    bse_data.to_csv(\"BSE_stock_data.csv\", index=True)\n",
    "    print(\"BSE data saved successfully.\")\n",
    "else:\n",
    "    print(\"BSE data not available.\")\n",
    "\n",
    "print(\"BSE data collection and preprocessing completed.\")"
   ]
  },
  {
   "cell_type": "code",
   "execution_count": null,
   "id": "487af457-3b67-4499-990d-9cc4925ad513",
   "metadata": {},
   "outputs": [],
   "source": []
  }
 ],
 "metadata": {
  "kernelspec": {
   "display_name": "Python 3 (ipykernel)",
   "language": "python",
   "name": "python3"
  },
  "language_info": {
   "codemirror_mode": {
    "name": "ipython",
    "version": 3
   },
   "file_extension": ".py",
   "mimetype": "text/x-python",
   "name": "python",
   "nbconvert_exporter": "python",
   "pygments_lexer": "ipython3",
   "version": "3.12.4"
  }
 },
 "nbformat": 4,
 "nbformat_minor": 5
}
